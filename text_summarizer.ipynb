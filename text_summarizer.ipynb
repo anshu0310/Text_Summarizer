{
  "nbformat": 4,
  "nbformat_minor": 0,
  "metadata": {
    "colab": {
      "provenance": [],
      "collapsed_sections": [],
      "include_colab_link": true
    },
    "kernelspec": {
      "name": "python3",
      "display_name": "Python 3"
    },
    "language_info": {
      "name": "python"
    }
  },
  "cells": [
    {
      "cell_type": "markdown",
      "metadata": {
        "id": "view-in-github",
        "colab_type": "text"
      },
      "source": [
        "<a href=\"https://colab.research.google.com/github/anshu0310/Text_Summarizer/blob/main/text_summarizer.ipynb\" target=\"_parent\"><img src=\"https://colab.research.google.com/assets/colab-badge.svg\" alt=\"Open In Colab\"/></a>"
      ]
    },
    {
      "cell_type": "code",
      "execution_count": 27,
      "metadata": {
        "id": "daOF-oVcQ7CS"
      },
      "outputs": [],
      "source": [
        "import nltk\n",
        "import pandas as pd"
      ]
    },
    {
      "cell_type": "code",
      "source": [
        "from nltk.corpus import stopwords\n",
        "from nltk.tokenize import word_tokenize, sent_tokenize"
      ],
      "metadata": {
        "id": "dvuj9--kQ9ZM"
      },
      "execution_count": 28,
      "outputs": []
    },
    {
      "cell_type": "code",
      "source": [
        "nltk.download('stopwords')\n",
        "nltk.download('punkt')"
      ],
      "metadata": {
        "colab": {
          "base_uri": "https://localhost:8080/"
        },
        "id": "cM5GxWC-UdGc",
        "outputId": "f1fa7c53-aa7e-4cca-bab4-81dc964470a8"
      },
      "execution_count": 29,
      "outputs": [
        {
          "output_type": "stream",
          "name": "stderr",
          "text": [
            "[nltk_data] Downloading package stopwords to /root/nltk_data...\n",
            "[nltk_data]   Package stopwords is already up-to-date!\n",
            "[nltk_data] Downloading package punkt to /root/nltk_data...\n",
            "[nltk_data]   Package punkt is already up-to-date!\n"
          ]
        },
        {
          "output_type": "execute_result",
          "data": {
            "text/plain": [
              "True"
            ]
          },
          "metadata": {},
          "execution_count": 29
        }
      ]
    },
    {
      "cell_type": "code",
      "source": [
        "# importing libraries\n",
        "import nltk\n",
        "from nltk.corpus import stopwords\n",
        "from nltk.tokenize import word_tokenize, sent_tokenize\n",
        "\n",
        "with open ('english.txt','r') as f :\n",
        "  text=f.read()\n",
        "text.replace('\\n',\" \")\n",
        "\n",
        "# Tokenizing the text\n",
        "stopWords = set(stopwords.words(\"english\"))\n",
        "words = word_tokenize(text)\n",
        "\n",
        "\n",
        "\n",
        "stopWords = set(stopwords.words(\"english\"))\n",
        "words = word_tokenize(text)\n",
        "\n",
        "\n",
        "# Creating a frequency table to keep the\n",
        "# score of each word\n",
        "\n",
        "freqTable = dict()\n",
        "for word in words:\n",
        "\tword = word.lower()\n",
        "\tif word in stopWords:\n",
        "\t\tcontinue\n",
        "\tif word in freqTable:\n",
        "\t\tfreqTable[word] += 1\n",
        "\telse:\n",
        "\t\tfreqTable[word] = 1\n",
        "print(freqTable)\n",
        "\n",
        "# Creating a dictionary to keep the score\n",
        "# of each sentence\n",
        "sentences = sent_tokenize(text)\n",
        "sentenceValue = dict()\n",
        "\n",
        "\n",
        "for sentence in sentences:\n",
        "\tfor word, freq in freqTable.items():\n",
        "\t\tif word in sentence.lower():\n",
        "\t\t\tif sentence in sentenceValue:\n",
        "\t\t\t\tsentenceValue[sentence] += freq\n",
        "\t\t\telse:\n",
        "\t\t\t\tsentenceValue[sentence] = freq\n",
        "\n",
        "\n",
        "\n",
        "sumValues = 0\n",
        "for sentence in sentenceValue:\n",
        "\tsumValues += sentenceValue[sentence]\n",
        "\n",
        "# Average value of a sentence from the original text\n",
        "\n",
        "average = int(sumValues / len(sentenceValue))\n",
        "\n",
        "# Storing sentences into our summary.\n",
        "summary = ''\n",
        "for sentence in sentences:\n",
        "\tif (sentence in sentenceValue) and (sentenceValue[sentence] > (1.2 * average)):\n",
        "\t\tsummary += \" \" + sentence\n",
        "print(summary)\n"
      ],
      "metadata": {
        "colab": {
          "base_uri": "https://localhost:8080/"
        },
        "id": "jglY00SMbFCG",
        "outputId": "e20c8f01-a3c1-4cb5-ac59-d59827a6842f"
      },
      "execution_count": 30,
      "outputs": [
        {
          "output_type": "stream",
          "name": "stdout",
          "text": [
            "{'narendra': 6, 'modi': 111, 'wikipedia': 1, ',': 214, 'free': 1, 'encyclopedia': 1, 'damodardas': 3, '(': 30, 'gujarati': 4, ':': 5, '[': 200, 'ˈnəɾendɾə': 1, 'dɑmodəɾˈdɑs': 1, 'ˈmodiː': 1, ']': 200, 'soundlisten': 1, ')': 30, ';': 10, 'born': 6, '17': 3, 'september': 2, '1950': 2, 'indian': 11, 'politician': 1, 'serving': 1, '14th': 1, 'current': 1, 'prime': 10, 'minister': 24, 'india': 10, 'since': 4, '2014': 6, '.': 174, 'chief': 16, 'gujarat': 49, '2001': 11, 'member': 4, 'parliament': 4, 'varanasi': 1, 'bharatiya': 3, 'janata': 1, 'party': 10, 'bjp': 30, 'national': 11, 'democratic': 3, 'alliance': 2, 'nda': 1, 'also': 7, 'rashtriya': 2, 'swayamsevak': 2, 'sangh': 8, 'rss': 18, 'right-wing': 2, 'hindu': 9, 'nationalist': 2, 'paramilitary': 1, 'volunteer': 1, 'organisation': 2, 'first': 4, \"'s\": 51, 'independence': 1, '1947': 1, 'second': 5, 'belonging': 1, 'congress': 3, 'two': 3, 'consecutive': 2, 'elections': 10, 'well': 2, 'majority': 3, 'terms': 1, 'lower': 2, 'house': 2, '3': 2, 'raised': 2, 'vadnagar': 5, 'small': 3, 'town': 1, 'northeastern': 1, 'completed': 4, 'secondary': 2, 'education': 5, 'said': 10, 'helped': 4, 'father': 2, 'sell': 2, 'tea': 3, 'local': 3, 'railway': 2, 'station': 2, 'introduced': 3, 'age': 2, 'eight': 2, '4': 1, 'left': 2, 'home': 2, '18': 2, 'soon': 3, 'marriage': 3, 'jashodaben': 3, 'chimanlal': 2, 'abandoned': 2, 'publicly': 2, 'acknowledged': 1, 'wife': 1, 'many': 6, 'decades': 2, 'later': 11, 'asserted': 1, 'travelled': 2, 'around': 1, 'years': 5, 'visiting': 2, 'number': 3, 'religious': 5, 'centres': 1, 'upon': 2, 'return': 1, '1971': 3, 'became': 6, 'full-time': 2, 'worker': 1, 'state': 25, 'emergency': 8, 'declared': 3, 'indira': 3, 'gandhi': 3, 'country': 2, '1975': 2, 'went': 4, 'hiding': 1, 'assigned': 2, '1985': 2, 'held': 2, 'several': 6, 'positions': 2, 'within': 4, 'hierarchy': 1, 'rising': 1, 'rank': 1, 'general': 6, 'secretary': 6, 'b': 1, 'appointed': 4, 'due': 1, 'keshubhai': 3, 'patel': 10, 'failing': 3, 'health': 3, 'poor': 2, 'public': 4, 'image': 2, 'following': 3, 'earthquake': 2, 'bhuj': 2, 'elected': 2, 'legislative': 3, 'assembly': 9, 'administration': 8, 'considered': 3, 'complicit': 2, '2002': 18, 'riots': 12, '1044': 1, 'people': 4, 'killed': 3, 'three-quarters': 1, 'muslim': 3, 'c': 2, 'otherwise': 2, 'criticised': 3, 'management': 1, 'crisis': 1, 'supreme': 4, 'court': 10, 'remarked': 1, 'like': 1, 'modern-day': 1, 'nero': 1, 'looking': 1, 'way': 2, 'innocent': 1, 'women': 3, 'children': 3, 'burning': 1, '13': 1, '14': 1, '15': 1, 'senior': 1, 'police': 2, 'officer': 1, 'sanjiv': 1, 'bhatt': 1, 'shubhranshu': 1, 'chaudhary': 1, 'bbc': 1, 'correspondent': 1, 'claimed': 3, 'attended': 1, 'meeting': 5, 'residence': 1, 'hindus': 3, 'allowed': 1, 'vent': 1, 'anger': 1, 'muslims': 6, '16': 1, 'however': 4, 'special': 3, 'investigation': 2, 'team': 2, 'cleared': 1, 'charges': 1, 'policies': 2, 'credited': 3, 'encouraging': 1, 'economic': 2, 'growth': 3, 'received': 4, 'praise': 1, '19': 2, 'significantly': 2, 'improve': 2, 'poverty': 1, 'indices': 1, 'e': 1, 'led': 8, 'election': 14, 'gave': 2, 'lok': 4, 'sabha': 3, 'time': 5, 'single': 1, '1984': 1, 'tried': 1, 'raise': 1, 'foreign': 1, 'direct': 1, 'investment': 2, 'economy': 1, 'reduced': 1, 'spending': 1, 'healthcare': 1, 'social': 2, 'welfare': 1, 'programmes': 1, 'attempted': 1, 'efficiency': 1, 'bureaucracy': 1, 'centralised': 1, 'power': 4, 'abolishing': 1, 'planning': 2, 'commission': 2, 'began': 3, 'high-profile': 1, 'sanitation': 1, 'campaign': 3, 'initiated': 1, 'controversial': 1, 'demonetisation': 1, 'high-denomination': 1, 'banknotes': 1, 'weakened': 1, 'abolished': 1, 'environmental': 1, 'labour': 1, 'laws': 2, 'tenure': 2, 'experienced': 1, 'backsliding': 1, 'f': 1, 'victory': 2, '2019': 1, 'revoked': 1, 'status': 1, 'jammu': 1, 'kashmir': 1, 'citizenship': 1, 'amendment': 1, 'act': 4, 'resulted': 1, 'widespread': 2, 'protests': 2, 'across': 3, 'described': 7, 'engineering': 1, 'political': 13, 'realignment': 1, 'towards': 1, 'politics': 3, 'remains': 1, 'figure': 1, 'controversy': 2, 'domestically': 1, 'internationally': 1, 'beliefs': 1, 'alleged': 1, 'role': 4, 'cited': 2, 'evidence': 4, 'exclusionary': 1, 'agenda': 1, 'g': 1, 'early': 6, 'life': 2, 'family': 3, 'grocers': 1, 'mehsana': 1, 'district': 1, 'bombay': 1, 'present-day': 1, 'third': 2, 'six': 1, 'mulchand': 1, 'c.': 2, '1915–1989': 1, 'hiraben': 1, '1920': 1, '26': 2, 'belonged': 1, 'modh-ghanchi-teli': 1, 'oil-presser': 1, 'community': 1, '27': 3, '28': 1, '29': 2, 'categorised': 1, 'backward': 2, 'class': 4, 'government': 19, '30': 2, 'falsely': 1, 'accused': 1, 'mayawati': 1, 'added': 1, 'caste': 2, 'obc': 1, 'list': 1, 'tool': 1, '31': 1, 'child': 1, 'ran': 1, 'stall': 1, 'brother': 1, 'near': 3, 'bus': 1, 'terminus': 1, '32': 1, 'higher': 1, '1967': 1, 'teacher': 1, 'average': 2, 'student': 2, 'keen': 1, 'debater': 1, 'interest': 1, 'theatre': 1, '33': 4, 'gift': 1, 'rhetoric': 4, 'debates': 1, 'teachers': 1, 'students': 1, 'noted': 1, '34': 1, 'preferred': 1, 'playing': 1, 'larger-than-life': 1, 'characters': 1, 'theatrical': 1, 'productions': 1, 'influenced': 1, '35': 1, '36': 1, 'old': 1, 'attending': 1, 'shakhas': 1, 'training': 2, 'sessions': 1, 'met': 3, 'lakshmanrao': 1, 'inamdar': 5, 'popularly': 1, 'known': 3, 'vakil': 1, 'saheb': 1, 'inducted': 1, 'balswayamsevak': 1, 'junior': 1, 'cadet': 1, 'mentor': 2, '37': 1, 'vasant': 1, 'gajendragadkar': 1, 'nathalal': 1, 'jaghda': 1, 'jana': 2, 'leaders': 2, 'founding': 1, 'members': 2, 'unit': 3, '1980': 1, '38': 1, 'custom': 1, 'traditional': 1, 'arranged': 1, 'betrothal': 1, 'girl': 1, 'leading': 1, '39': 1, '40': 1, 'afterwards': 2, 'bride': 1, '41': 1, 'couple': 2, 'going': 2, 'lead': 1, 'separate': 1, 'lives': 1, 'neither': 1, 'marrying': 1, 'remaining': 1, 'unmentioned': 1, 'pronouncements': 1, '42': 1, 'april': 3, 'shortly': 3, 'swept': 1, 'affirmed': 1, 'married': 2, 'spouse': 1, 'remained': 2, 'estranged': 1, '43': 1, 'spent': 1, 'ensuing': 1, 'travelling': 2, 'northern': 1, 'north-eastern': 1, 'though': 1, 'details': 2, 'emerged': 1, '44': 1, 'interviews': 1, 'ashrams': 1, 'founded': 1, 'swami': 1, 'vivekananda': 2, 'belur': 2, 'math': 2, 'kolkata': 1, 'followed': 2, 'advaita': 1, 'ashrama': 1, 'almora': 2, 'ramakrishna': 2, 'mission': 1, 'rajkot': 2, 'short': 3, 'lacked': 1, 'required': 1, 'college': 1, '45': 1, 'large': 3, 'influence': 2, '46': 1, 'summer': 1, '1968': 1, 'reached': 1, 'turned': 1, 'away': 1, 'wandered': 1, 'calcutta': 1, 'west': 2, 'bengal': 2, 'assam': 1, 'stopping': 1, 'siliguri': 1, 'guwahati': 1, 'ashram': 1, 'rejected': 2, 'back': 2, 'via': 1, 'delhi': 7, 'rajasthan': 1, '1968–69': 1, 'sometime': 1, 'late': 1, '1969': 1, '1970': 1, 'returned': 3, 'brief': 2, 'visit': 1, 'leaving': 2, 'ahmedabad': 7, '47': 1, '48': 1, 'lived': 1, 'uncle': 2, 'working': 3, 'latter': 1, 'canteen': 1, 'road': 1, 'transport': 1, 'corporation': 1, '49': 1, 'renewed': 1, 'acquaintance': 1, 'based': 2, 'hedgewar': 1, 'bhavan': 1, 'headquarters': 1, 'city': 1, '50': 1, '51': 1, '52': 1, 'activity': 1, 'adult': 1, 'per': 2, 'remarks': 1, 'joined': 1, 'satyagraha': 2, 'atal': 4, 'bihari': 4, 'vajpayee': 5, 'enlist': 1, 'battlefield': 1, '53': 1, '54': 1, 'central': 3, 'disallowed': 1, 'open': 2, 'support': 2, 'mukti': 1, 'bahini': 1, 'according': 2, 'claim': 4, 'put': 3, 'tihar': 1, 'jail': 1, 'period': 3, '55': 1, '56': 2, '57': 1, 'indo-pakistani': 1, 'war': 3, 'stopped': 1, 'pracharak': 2, 'campaigner': 1, '58': 1, '59': 2, 'took': 3, 'part': 3, 'non-violent': 1, 'protest': 3, 'new': 3, 'arrested': 1, 'reason': 3, 'electing': 1, 'would': 2, 'co-author': 1, 'biography': 1, 'published': 1, '60': 2, 'applications': 1, 'filed': 2, 'pmo': 3, 'rti': 1, 'seeking': 1, 'arrest': 2, 'reply': 1, 'maintains': 1, 'official': 2, 'records': 1, 'charge': 1, 'despite': 3, 'website': 1, 'contains': 1, 'specific': 1, 'information': 1, 'dates': 1, '1950s': 1, '61': 1, '62': 1, '1978': 2, 'bachelor': 1, 'arts': 2, 'degree': 3, 'science': 3, 'school': 2, 'learning': 2, '63': 1, 'university': 4, '64': 1, 'graduating': 2, '65': 1, 'five': 1, '1983': 1, 'master': 1, '66': 1, '67': 1, 'external': 1, 'distance': 1, '68': 1, 'big': 1, 'surrounding': 1, 'educational': 1, 'qualification': 1, '69': 1, '70': 1, 'jayantibhai': 1, 'former': 2, 'professor': 1, 'subjects': 1, 'listed': 1, 'offered': 4, 'studying': 1, '71': 1, '72': 1, 'career': 1, 'june': 1, 'lasted': 1, '1977': 1, '``': 9, \"''\": 5, 'opponents': 1, 'jailed': 1, 'opposition': 4, 'groups': 1, 'banned': 2, '73': 1, '74': 1, 'sangharsh': 2, 'samiti': 1, 'committee': 3, 'co-ordinating': 1, '75': 1, 'forced': 3, 'go': 1, 'underground': 1, 'frequently': 1, 'disguise': 2, 'avoid': 1, 'involved': 2, 'printing': 1, 'pamphlets': 1, 'opposing': 1, 'sending': 1, 'organising': 2, 'demonstrations': 1, '76': 1, '77': 1, 'creating': 1, 'network': 1, 'safe': 1, 'houses': 2, 'individuals': 1, 'wanted': 1, 'raising': 1, 'funds': 1, 'refugees': 1, 'activists': 1, '78': 1, 'wrote': 2, 'book': 2, 'struggles': 1, 'describing': 1, 'events': 2, '79': 1, '80': 1, 'among': 3, 'trade': 1, 'unionist': 1, 'socialist': 1, 'activist': 1, 'george': 1, 'fernandes': 1, 'figures': 1, '81': 1, 'travels': 1, 'often': 3, 'move': 3, 'dressing': 1, 'monk': 1, 'sikh': 1, '82': 1, 'sambhag': 1, 'regional': 1, 'organiser': 1, 'overseeing': 1, 'activities': 2, 'areas': 1, 'surat': 1, 'vadodara': 1, '1979': 1, 'work': 3, 'researching': 1, 'writing': 1, 'version': 1, 'history': 1, '1987': 2, 'organise': 2, 'municipal': 1, 'comfortably': 1, 'result': 2, 'biographers': 1, '83': 1, '84': 1, 'l.': 3, 'k.': 3, 'advani': 5, 'president': 2, '1986': 1, 'decided': 1, 'place': 1, 'important': 1, 'selection': 2, '85': 1, 'rose': 2, 'named': 1, '1990': 3, 'helping': 1, 'ram': 1, 'rath': 1, 'yatra': 2, 'murli': 1, 'manohar': 1, 'joshi': 1, '1991–92': 1, 'ekta': 1, 'journey': 1, 'unity': 1, '86': 1, '87': 2, 'break': 1, '1992': 1, 'instead': 1, 'establishing': 1, 'friction': 1, 'shankersinh': 2, 'vaghela': 3, 'mp': 1, 'played': 1, 'decision': 4, 'electoral': 3, '1994': 1, 'partly': 1, 'insistence': 1, 'strategy': 3, '1995': 1, '88': 1, '89': 1, 'november': 2, 'year': 4, 'transferred': 1, 'assumed': 1, 'responsibility': 2, 'haryana': 1, 'himachal': 1, 'pradesh': 1, '90': 1, 'prominent': 1, 'leader': 3, 'defected': 1, 'inc': 4, 'losing': 1, 'parliamentary': 1, 'seat': 1, '1998': 2, 'favoured': 2, 'supporters': 1, 'supporting': 1, 'end': 1, 'factional': 1, 'division': 1, 'key': 1, 'winning': 3, 'overall': 1, '91': 2, 'promoted': 1, 'may': 2, '92': 1, 'taking': 1, 'office': 2, 'lost': 1, 'seats': 4, 'by-elections': 1, 'allegations': 1, 'abuse': 1, 'corruption': 2, 'made': 2, 'standing': 1, 'damaged': 1, 'handling': 2, '93': 4, '94': 1, 'leadership': 1, 'sought': 1, 'candidate': 2, 'ministership': 1, 'expressed': 2, 'misgivings': 1, 'chosen': 1, 'replacement': 1, 'although': 4, 'want': 1, 'ostracise': 1, 'concerned': 1, 'lack': 1, 'experience': 2, 'declined': 1, 'offer': 1, 'deputy': 1, 'telling': 1, 'fully': 1, 'responsible': 1, 'october': 3, 'replaced': 1, 'preparing': 1, 'december': 5, '95': 1, 'sworn': 1, '7': 1, '96': 1, 'entered': 1, 'legislature': 1, '24': 1, 'february': 2, 'by-election': 1, '–': 2, 'ii': 1, 'constituency': 2, 'defeating': 2, 'ashwin': 1, 'mehta': 1, '14,728': 1, 'votes': 3, '97': 1, 'main': 2, 'article': 2, 'train': 4, 'hundred': 1, 'passengers': 1, 'burned': 1, 'godhra': 2, 'killing': 1, 'approximately': 2, 'h': 1, 'carried': 2, 'pilgrims': 1, 'returning': 1, 'ayodhya': 1, 'ceremony': 1, 'site': 1, 'demolished': 1, 'babri': 1, 'masjid': 1, '100': 5, '101': 2, 'making': 2, 'statement': 1, 'incident': 1, 'terrorist': 1, 'attack': 2, 'planned': 1, 'orchestrated': 1, '10': 3, '102': 2, 'next': 1, 'day': 1, 'vishwa': 1, 'parishad': 3, 'called': 4, 'bandh': 3, '103': 3, '104': 3, 'anti-muslim': 2, 'violence': 9, 'spread': 1, 'bodies': 1, 'victims': 5, 'inflamed': 1, '105': 1, 'stated': 2, '790': 1, '254': 1, 'independent': 1, 'sources': 1, 'death': 1, 'toll': 1, '2000': 1, '106': 1, '150,000': 1, 'driven': 1, 'refugee': 2, 'camps': 3, '107': 1, 'numerous': 1, 'included': 1, 'mass': 1, 'rapes': 1, 'mutilations': 1, '9': 5, '108': 1, 'generally': 1, 'scholars': 2, '8': 3, 'heavy': 1, 'criticism': 3, 'situation': 1, '109': 2, 'pogrom': 1, 'others': 1, 'example': 1, 'terrorism': 3, '110': 1, '111': 1, '112': 2, 'summarising': 1, 'academic': 1, 'views': 1, 'subject': 2, 'martha': 1, 'nussbaum': 1, 'broad': 1, 'consensus': 1, 'form': 1, 'ethnic': 1, 'cleansing': 1, 'ways': 1, 'premeditated': 1, 'complicity': 2, 'officers': 2, 'law': 2, 'imposed': 1, 'curfew': 1, 'major': 1, 'cities': 1, 'issued': 1, 'shoot-at-sight': 1, 'orders': 1, 'army': 1, 'patrol': 1, 'streets': 1, 'unable': 2, 'prevent': 1, 'escalating': 1, 'actions': 1, 'illegal': 2, 'officials': 1, 'prevented': 1, 'riot': 1, 'meet': 1, 'needs': 1, 'living': 1, '113': 1, 'discrimination': 1, 'announced': 1, 'compensation': 1, 'half': 1, 'reversed': 1, 'issue': 4, 'taken': 1, '114': 1, 'intervene': 1, 'situations': 1, 'able': 1, '115': 1, 'personal': 1, 'involvement': 1, 'continued': 2, 'debated': 1, 'happening': 1, 'chain': 1, 'action': 1, 'reaction': 1, 'handled': 1, 'media': 1, 'regret': 1, 'regarding': 1, 'episode': 1, '116': 1, 'march': 4, '2008': 4, 'reopened': 1, 'cases': 1, 'related': 1, 'including': 3, 'gulbarg': 2, 'society': 2, 'massacre': 2, 'established': 2, 'sit': 6, 'look': 1, '117': 3, '118': 1, 'response': 2, 'petition': 3, 'zakia': 2, 'jafri': 3, 'widow': 1, 'ehsan': 1, '2009': 2, 'asked': 3, 'investigate': 1, 'killings': 1, 'questioned': 1, '2010': 3, 'presented': 1, 'report': 4, 'finding': 2, '119': 1, 'july': 4, '2011': 1, 'court-appointed': 1, 'amicus': 1, 'curiae': 1, 'raju': 1, 'ramachandran': 2, 'submitted': 3, 'final': 2, 'contrary': 1, 'position': 1, 'could': 1, 'prosecuted': 1, 'available': 1, '120': 1, '121': 1, 'matter': 1, 'magistrate': 2, 'examined': 1, '2012': 2, 'asking': 1, 'case': 1, 'closed': 1, '2013': 2, 'accepting': 1, '122': 2, 'manmohan': 2, 'singh': 2, '2004': 3, 'aftermath': 2, 'calls': 1, 'resign': 1, 'outside': 1, 'dravida': 1, 'munnetra': 1, 'kazhagam': 1, 'telugu': 1, 'desam': 1, 'allies': 1, 'bjp-led': 1, 'coalition': 1, 'parties': 1, 'stalled': 1, '123': 1, 'resignation': 3, 'executive': 1, 'goa': 1, 'accepted': 1, '124': 1, 'cabinet': 2, 'governor': 1, 's.': 2, 'bhandari': 2, 'dissolved': 1, '125': 1, '126': 1, 'commissioner': 1, 'voters': 2, 'still': 1, 'displaced': 1, 'succeeded': 1, 'advancing': 1, '127': 3, '182-member': 1, '128': 1, 'denied': 2, 'significant': 1, 'use': 2, '129': 3, '130': 1, '131': 1, '132': 1, 'profited': 1, 'polarisation': 1, 'maninagar': 1, 'receiving': 1, '113,589': 1, '154,981': 1, 'yatin': 1, 'oza': 1, '75,333': 1, '133': 1, '22': 1, 'swore': 1, 'term': 4, '134': 1, 'framed': 1, 'human': 1, 'rights': 1, 'violations': 1, 'pride': 1, 'two-thirds': 1, 'shifted': 1, 'hindutva': 1, 'development': 2, 'curtailed': 1, 'parivar': 1, 'organisations': 2, 'kisan': 1, 'bks': 2, 'vishva': 2, 'vhp': 2, '135': 3, 'entrenched': 1, 'decline': 1, 'textile': 1, 'industry': 1, 'dropped': 1, 'gordhan': 1, 'zadafia': 1, 'ally': 1, 'co-worker': 1, 'praveen': 1, 'togadia': 1, 'staged': 1, 'farmers': 5, \"'\": 1, 'demonstration': 1, 'ordered': 1, 'eviction': 1, 'state-provided': 1, 'demolish': 1, '200': 1, 'temples': 1, 'gandhinagar': 1, 'deepened': 1, 'rift': 1, '136': 1, 'longer': 1, 'consulted': 1, 'informed': 1, 'advance': 1, 'administrative': 1, 'decisions': 1, 'nonetheless': 2, 'retained': 1, 'connections': 1, 'nationalists': 1, 'foreword': 1, 'textbook': 1, 'dinanath': 1, 'batra': 1, 'released': 1, 'ancient': 1, 'possessed': 1, 'technologies': 1, 'test-tube': 1, 'babies': 1, '137': 1, '138': 1, 'relationship': 2, 'attract': 1, 'tolerance': 1, 'supported': 2, '139': 1, '140': 1, 'distanced': 1, 'reaching': 1, 'north': 1, 'defeat': 1, 'mistake': 1, 'leave': 1, '141': 1, '142': 1, 'questions': 1, 'western': 1, 'nations': 1, 'barred': 1, 'entering': 1, 'united': 1, 'states': 2, 'department': 1, 'accordance': 1, 'recommendations': 1, 'international': 2, 'freedom': 2, 'formed': 1, 'aegis': 1, '143': 2, '144': 1, 'person': 1, 'us': 2, 'visa': 1, 'uk': 2, 'european': 1, 'union': 1, 'refused': 1, 'admit': 1, 'saw': 1, 'prominence': 1, '145': 1, 'eu': 1, '146': 1, 'lifted': 1, 'bans': 1, 'respectively': 1, 'invited': 1, 'washington': 1, 'nation': 1, '147': 1, '148': 1, 'run-up': 1, '2007': 5, 'intensified': 1, '149': 1, '2006': 3, 'reluctance': 1, 'revive': 1, 'anti-terror': 1, 'legislation': 1, 'prevention': 1, 'allow': 1, 'invoke': 1, 'tougher': 1, 'wake': 1, 'mumbai': 2, 'bombings': 1, '150': 1, 'authored': 1, 'karmayog': 1, '101-page': 1, 'booklet': 1, 'discussing': 1, 'manual': 1, 'scavenging': 2, 'argued': 1, 'spiritual': 1, 'valmiks': 1, 'sub-caste': 1, 'dalits': 1, '151': 1, '152': 1, 'circulated': 1, 'code': 1, 'conduct': 1, '153': 1, 'attacks': 1, 'discuss': 1, 'security': 1, '1,600-kilometre': 1, '990': 1, 'mi': 1, '-long': 1, 'coastline': 1, 'resulting': 1, 'authorisation': 1, 'high-speed': 1, 'surveillance': 1, 'boats': 1, '154': 1, '2,063': 1, 'days': 1, 'longest-serving': 1, 'holder': 1, 'post': 1, '155': 1, '182': 1, 'state-assembly': 1, '156': 1, 'projects': 2, 'kuldeep': 1, 'smart': 1, 'boi': 1, 'sardar': 3, 'sarovar': 3, 'dam': 2, 'height': 1, 'increase': 1, 'privatisation': 1, 'odds': 1, 'philosophy': 1, 'usually': 1, 'anti-privatisation': 1, 'anti-globalisation': 1, 'reducing': 2, 'financial': 1, 'technology': 1, 'parks': 1, 'vibrant': 1, 'summit': 1, 'real-estate': 1, 'deals': 1, 'worth': 1, '₹6.6': 1, 'trillion': 2, 'equivalent': 1, '₹17': 1, '$': 1, '220': 1, 'billion': 1, '2020': 1, 'signed': 1, 'governments': 1, 'ngos': 1, 'communities': 1, 'creation': 1, 'groundwater-conservation': 1, '500,000': 1, 'structures': 1, 'built': 1, '113,738': 1, 'check': 1, 'dams': 1, 'recharge': 1, 'aquifers': 1, 'beneath': 1, '157': 4, 'sixty': 1, 'tehsils': 1, 'depleted': 1, 'water': 1, 'table': 1, 'regained': 1, 'normal': 1, 'groundwater': 1, 'levels': 1, '158': 1, 'production': 2, 'genetically': 1, 'modified': 1, 'cotton': 2, 'increased': 1, 'become': 1, 'largest': 1, 'boom': 1, 'semi-arid': 1, 'land': 2, '159': 2, 'agricultural': 4, 'sector': 1, 'growing': 1, 'rate': 3, '9.6': 1, 'percent': 3, '160': 1, 'irrigation': 2, 'measures': 1, 'southern': 1, 'less': 1, 'successful': 1, 'project': 1, 'irrigated': 1, '4–6': 1, '%': 1, 'area': 1, 'intended': 1, 'recorded': 1, '10.97': 1, 'highest': 1, 'sociologists': 1, 'pointed': 1, '1992–97': 1, '12.9': 1, '161': 2, 'tata': 2, 'motors': 1, 'set': 1, 'plant': 1, 'manufacturing': 1, 'nano': 1, 'popular': 1, 'agitation': 1, 'company': 1, 'companies': 1, '162': 1, 'finished': 1, 'process': 1, 'bringing': 1, 'electricity': 5, 'every': 1, 'village': 1, 'predecessor': 1, 'almost': 1, 'changed': 1, 'system': 1, 'distribution': 1, 'greatly': 1, 'impacting': 1, 'expanded': 1, 'jyotigram': 1, 'yojana': 1, 'scheme': 1, 'separated': 1, 'rural': 1, 'rationed': 1, 'fit': 1, 'scheduled': 1, 'demands': 1, 'cost': 1, 'ended': 1, 'benefited': 2, 'found': 1, 'supply': 1, 'stabilised': 1, 'assessment': 1, 'study': 1, 'corporations': 1, 'policy': 1, 'expense': 1, 'labourers': 1, '163': 1}\n",
            " Narendra Modi\n",
            "From Wikipedia, the free encyclopedia\n",
            "Narendra Damodardas Modi (Gujarati: [ˈnəɾendɾə dɑmodəɾˈdɑs ˈmodiː] (About this soundlisten); born 17 September 1950)[a] is an Indian politician serving as the 14th and current prime minister of India since 2014. [3]\n",
            "\n",
            "Born and raised in Vadnagar, a small town in northeastern Gujarat, Modi completed his secondary education there, and is said to have helped his father sell tea at the local railway station. [4] Modi left home at age 18 soon after his marriage to Jashodaben Chimanlal Modi, whom he abandoned and publicly acknowledged as his wife many decades later. [13][14][15] Senior police officer Sanjiv Bhatt and Shubhranshu Chaudhary, a BBC correspondent claimed to have attended a meeting at Narendra Modi's residence where the Gujarat Chief Minister said Hindus should be allowed to vent their anger against Muslims. [e]\n",
            "\n",
            "Modi led the BJP in the 2014 general election which gave the party a majority in the Indian lower house of parliament, the Lok Sabha, the first time for any single party since 1984. [g]\n",
            "\n",
            "Early life and education\n",
            "Narendra Damodardas Modi was born on 17 September 1950 to a Gujarati Hindu family of grocers in Vadnagar, Mehsana district, Bombay State (present-day Gujarat). [26][a] Modi's family belonged to the Modh-Ghanchi-Teli (oil-presser) community,[27][28][29] which is categorised as an Other Backward Class by the Indian government. [27][31]\n",
            "\n",
            "As a child, Modi is said to have helped his father sell tea at the Vadnagar railway station, and said that he later ran a tea stall with his brother near a bus terminus. [32] Modi completed his higher secondary education in Vadnagar in 1967, where a teacher described him as an average student and a keen debater, with interest in theatre. [35][36]\n",
            "\n",
            "When eight years old, Modi was introduced to the Rashtriya Swayamsevak Sangh (RSS) and began attending its local shakhas (training sessions). [37] While Modi was training with the RSS, he also met Vasant Gajendragadkar and Nathalal Jaghda, Bharatiya Jana Sangh leaders who were founding members of the BJP's Gujarat unit in 1980. [38]\n",
            "\n",
            "In a custom traditional to Narendra Modi's caste, his family arranged a betrothal to a girl, Jashodaben Chimanlal Modi, leading to their marriage when she was 17 and he was 18. [39][40] Soon afterwards, he abandoned his bride,[41] and left home, the couple going on to lead separate lives, neither marrying again, and the marriage itself remaining unmentioned in Modi's public pronouncements for many decades. [42] In April 2014, shortly before the national elections that swept him to power, Modi publicly affirmed that he was married and his spouse was Jashodaben; the couple has remained married, but estranged. [44] In interviews, Modi has described visiting Hindu ashrams founded by Swami Vivekananda: the Belur Math near Kolkata, followed by the Advaita Ashrama in Almora and the Ramakrishna Mission in Rajkot. [47][48] There, Modi lived with his uncle, working in the latter's canteen at the Gujarat State Road Transport Corporation. [49]\n",
            "\n",
            "In Ahmedabad, Modi renewed his acquaintance with Inamdar, who was based at the Hedgewar Bhavan (RSS headquarters) in the city. [50][51][52] Modi's first known political activity as an adult was in 1971 when he, as per his remarks, joined a Jana Sangh Satyagraha in Delhi led by Atal Bihari Vajpayee to enlist for the battlefield. [53][54] But the Indira Gandhi led Central government disallowed open support to Mukti Bahini and Modi, according to his own claim, was put in Tihar Jail for a short period. [59] Shortly before the war, Modi took part in a non-violent protest against the Indian government in New Delhi, for which he was arrested (as per his claim); this has been cited as a reason for Inamdar electing to mentor him. [59] Many years later Modi would co-author a biography of Inamdar, published in 2001. [61][62]\n",
            "\n",
            "In 1978 Modi received a Bachelor of Arts degree in political science from the School of Open Learning[63] at the University of Delhi,[64] graduating with a third class. [69][70] Jayantibhai Patel, a former political science professor of Gujarat University, claimed that the subjects listed in Modi's MA degree were not offered by the university when Modi was studying there. [73][74] Modi was appointed general secretary of the \"Gujarat Lok Sangharsh Samiti\", an RSS committee co-ordinating opposition to the Emergency in Gujarat. [76][77] Modi was also involved with creating a network of safe houses for individuals wanted by the government, and in raising funds for political refugees and activists. [78] During this period, Modi wrote a book in Gujarati, Sangharsh Ma Gujarat (In The Struggles of Gujarat), describing events during the Emergency. [82]\n",
            "\n",
            "Modi became an RSS sambhag pracharak (regional organiser) in 1978, overseeing RSS activities in the areas of Surat and Vadodara, and in 1979 he went to work for the RSS in Delhi, where he was put to work researching and writing the RSS's version of the history of the Emergency. [83][84] After L. K. Advani became president of the BJP in 1986, the RSS decided to place its members in important positions within the BJP; Modi's work during the Ahmedabad election led to his selection for this role, and Modi was elected organising secretary of the BJP's Gujarat unit later in 1987. [33][86][87] However, he took a brief break from politics in 1992, instead establishing a school in Ahmedabad; friction with Shankersinh Vaghela, a BJP MP from Gujarat at the time, also played a part in this decision. [87] Modi returned to electoral politics in 1994, partly at the insistence of Advani, and as party secretary, Modi's electoral strategy was considered central to the BJP victory in the 1995 state assembly elections. [88][89] In November of that year Modi was appointed BJP national secretary and transferred to New Delhi, where he assumed responsibility for party activities in Haryana and Himachal Pradesh. [90] The following year, Shankersinh Vaghela, a prominent BJP leader from Gujarat, defected to the Indian National Congress (Congress, INC) after losing his parliamentary seat in the Lok Sabha elections. [33] Modi, on the selection committee for the 1998 Assembly elections in Gujarat, favoured supporters of BJP leader Keshubhai Patel over those supporting Vaghela to end factional division in the party. His strategy was credited as key to the BJP winning an overall majority in the 1998 elections,[91] and Modi was promoted to BJP general secretary (organisation) in May of that year. [92]\n",
            "\n",
            "Chief Minister of Gujarat\n",
            "Taking office\n",
            "In 2001, Keshubhai Patel's health was failing and the BJP lost a few state assembly seats in by-elections. [91][93][94] The BJP national leadership sought a new candidate for the chief ministership, and Modi, who had expressed misgivings about Patel's administration, was chosen as a replacement. [33] Although BJP leader L. K. Advani did not want to ostracise Patel and was concerned about Modi's lack of experience in government, Modi declined an offer to be Patel's deputy chief minister, telling Advani and Atal Bihari Vajpayee that he was \"going to be fully responsible for Gujarat or not at all\". [95] Modi was sworn in as Chief Minister on 7 October 2001,[96] and entered the Gujarat state legislature on 24 February 2002 by winning a by-election to the Rajkot – II constituency, defeating Ashwin Mehta of the INC by 14,728 votes. [100][101] In making a public statement after the incident, Modi declared it a terrorist attack planned and orchestrated by local Muslims. [110][111][112] Summarising academic views on the subject, Martha Nussbaum said: \"There is by now a broad consensus that the Gujarat violence was a form of ethnic cleansing, that in many ways it was premeditated, and that it was carried out with the complicity of the state government and officers of the law. \"[9] The Modi government imposed a curfew in 26 major cities, issued shoot-at-sight orders and called for the army to patrol the streets, but was unable to prevent the violence from escalating. \"[9] Later in 2002, Modi said the way in which he had handled the media was his only regret regarding the episode. [116] In March 2008, the Supreme Court reopened several cases related to the 2002 riots, including that of the Gulbarg Society massacre, and established a Special Investigation Team (SIT) to look into the issue. [109][117][118] In response to a petition from Zakia Jafri (widow of Ehsan Jafri, who was killed in the Gulbarg Society massacre), in April 2009 the court also asked the SIT to investigate the issue of Modi's complicity in the killings. [117] The SIT questioned Modi in March 2010; in May, it presented to the court a report finding no evidence against him. [122]\n",
            "\n",
            "2002 election\n",
            "Main article: 2002 Gujarat Legislative Assembly election\n",
            "\n",
            "Modi meeting with then Prime Minister, Manmohan Singh in 2004. [123] Modi submitted his resignation at the April 2002 BJP national executive meeting in Goa, but it was not accepted. [125][126] Despite opposition from the election commissioner, who said that a number of voters were still displaced, Modi succeeded in advancing the election to December 2002. [128] Although Modi later denied it, he made significant use of anti-Muslim rhetoric during his campaign,[129][130][131][132] and the BJP profited from religious polarisation among the voters. [134] Modi framed the criticism of his government for human rights violations as an attack upon Gujarati pride, a strategy which led to the BJP winning two-thirds of the seats in the state assembly. [93][8][129] Modi curtailed the influence of Sangh Parivar organisations such as the Bharatiya Kisan Sangh (BKS) and the Vishva Hindu Parishad (VHP),[135] entrenched in the state after the decline of Ahmedabad's textile industry,[93] and dropped Gordhan Zadafia (an ally of former Sangh co-worker and VHP state chief Praveen Togadia) from his cabinet. Prime Minister Atal Bihari Vajpayee (who asked Modi for tolerance in the aftermath of the 2002 Gujarat violence and supported his resignation as chief minister)[139][140] distanced himself, reaching out to North Indian Muslims before the 2004 Lok Sabha elections. Modi was barred from entering the United States by the State Department, in accordance with the recommendations of the Commission on International Religious Freedom formed under the aegis of the International Religious Freedom Act,[143][144] the only person denied a US visa under this law. As Modi rose to prominence in India, the UK[145] and the EU[146] lifted their bans in October 2012 and March 2013, respectively, and after his election he was invited to Washington as the nation's prime minister. [147][148]\n",
            "\n",
            "During the run-up to the 2007 Gujarat Legislative Assembly election and the 2009 Indian general election, the BJP intensified its rhetoric on terrorism. [149] In July 2006, Modi criticised Prime Minister Manmohan Singh \" for his reluctance to revive anti-terror legislation\" such as the 2002 Prevention of Terrorism Act. [153] After the November 2008 Mumbai attacks, Modi held a meeting to discuss the security of Gujarat's 1,600-kilometre (990 mi)-long coastline, resulting in government authorisation of 30 high-speed surveillance boats. [154] In July 2007 Modi completed 2,063 consecutive days as chief minister of Gujarat, making him the longest-serving holder of that post,[155] and the BJP won 122 of 182 state-assembly seats in that year's election. [158] As a result, the state's production of genetically modified cotton increased to become the largest in India. [161] Modi significantly changed the state's system of power distribution, greatly impacting farmers.\n"
          ]
        }
      ]
    }
  ]
}